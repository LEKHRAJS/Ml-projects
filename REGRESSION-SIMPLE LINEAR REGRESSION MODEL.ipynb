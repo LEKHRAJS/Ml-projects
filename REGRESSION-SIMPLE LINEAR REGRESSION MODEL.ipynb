{
 "cells": [
  {
   "cell_type": "code",
   "execution_count": 1,
   "id": "60557233",
   "metadata": {},
   "outputs": [],
   "source": [
    "import pandas as pd\n",
    "import numpy as np\n",
    "from sklearn import linear_model\n",
    "import matplotlib.pyplot as plt\n",
    "%matplotlib inline"
   ]
  },
  {
   "cell_type": "code",
   "execution_count": 2,
   "id": "2fb63753",
   "metadata": {},
   "outputs": [
    {
     "data": {
      "text/html": [
       "<div>\n",
       "<style scoped>\n",
       "    .dataframe tbody tr th:only-of-type {\n",
       "        vertical-align: middle;\n",
       "    }\n",
       "\n",
       "    .dataframe tbody tr th {\n",
       "        vertical-align: top;\n",
       "    }\n",
       "\n",
       "    .dataframe thead th {\n",
       "        text-align: right;\n",
       "    }\n",
       "</style>\n",
       "<table border=\"1\" class=\"dataframe\">\n",
       "  <thead>\n",
       "    <tr style=\"text-align: right;\">\n",
       "      <th></th>\n",
       "      <th>Make</th>\n",
       "      <th>Model</th>\n",
       "      <th>VehicleClass</th>\n",
       "      <th>EngineSize</th>\n",
       "      <th>Cylinders</th>\n",
       "      <th>Transmission</th>\n",
       "      <th>FuelType</th>\n",
       "      <th>FuelConsumptionCity (L/100 km)</th>\n",
       "      <th>FuelConsumptionHwy (L/100 km)</th>\n",
       "      <th>FuelConsumptionComb (L/100 km)</th>\n",
       "      <th>FuelConsumptionComb</th>\n",
       "      <th>CO2Emissions</th>\n",
       "    </tr>\n",
       "  </thead>\n",
       "  <tbody>\n",
       "    <tr>\n",
       "      <th>0</th>\n",
       "      <td>ACURA</td>\n",
       "      <td>ILX</td>\n",
       "      <td>COMPACT</td>\n",
       "      <td>2.0</td>\n",
       "      <td>4</td>\n",
       "      <td>AS5</td>\n",
       "      <td>Z</td>\n",
       "      <td>9.9</td>\n",
       "      <td>6.7</td>\n",
       "      <td>8.5</td>\n",
       "      <td>33</td>\n",
       "      <td>196</td>\n",
       "    </tr>\n",
       "    <tr>\n",
       "      <th>1</th>\n",
       "      <td>ACURA</td>\n",
       "      <td>ILX</td>\n",
       "      <td>COMPACT</td>\n",
       "      <td>2.4</td>\n",
       "      <td>4</td>\n",
       "      <td>M6</td>\n",
       "      <td>Z</td>\n",
       "      <td>11.2</td>\n",
       "      <td>7.7</td>\n",
       "      <td>9.6</td>\n",
       "      <td>29</td>\n",
       "      <td>221</td>\n",
       "    </tr>\n",
       "    <tr>\n",
       "      <th>2</th>\n",
       "      <td>ACURA</td>\n",
       "      <td>ILX HYBRID</td>\n",
       "      <td>COMPACT</td>\n",
       "      <td>1.5</td>\n",
       "      <td>4</td>\n",
       "      <td>AV7</td>\n",
       "      <td>Z</td>\n",
       "      <td>6.0</td>\n",
       "      <td>5.8</td>\n",
       "      <td>5.9</td>\n",
       "      <td>48</td>\n",
       "      <td>136</td>\n",
       "    </tr>\n",
       "    <tr>\n",
       "      <th>3</th>\n",
       "      <td>ACURA</td>\n",
       "      <td>MDX 4WD</td>\n",
       "      <td>SUV - SMALL</td>\n",
       "      <td>3.5</td>\n",
       "      <td>6</td>\n",
       "      <td>AS6</td>\n",
       "      <td>Z</td>\n",
       "      <td>12.7</td>\n",
       "      <td>9.1</td>\n",
       "      <td>11.1</td>\n",
       "      <td>25</td>\n",
       "      <td>255</td>\n",
       "    </tr>\n",
       "    <tr>\n",
       "      <th>4</th>\n",
       "      <td>ACURA</td>\n",
       "      <td>RDX AWD</td>\n",
       "      <td>SUV - SMALL</td>\n",
       "      <td>3.5</td>\n",
       "      <td>6</td>\n",
       "      <td>AS6</td>\n",
       "      <td>Z</td>\n",
       "      <td>12.1</td>\n",
       "      <td>8.7</td>\n",
       "      <td>10.6</td>\n",
       "      <td>27</td>\n",
       "      <td>244</td>\n",
       "    </tr>\n",
       "    <tr>\n",
       "      <th>...</th>\n",
       "      <td>...</td>\n",
       "      <td>...</td>\n",
       "      <td>...</td>\n",
       "      <td>...</td>\n",
       "      <td>...</td>\n",
       "      <td>...</td>\n",
       "      <td>...</td>\n",
       "      <td>...</td>\n",
       "      <td>...</td>\n",
       "      <td>...</td>\n",
       "      <td>...</td>\n",
       "      <td>...</td>\n",
       "    </tr>\n",
       "    <tr>\n",
       "      <th>7380</th>\n",
       "      <td>VOLVO</td>\n",
       "      <td>XC40 T5 AWD</td>\n",
       "      <td>SUV - SMALL</td>\n",
       "      <td>2.0</td>\n",
       "      <td>4</td>\n",
       "      <td>AS8</td>\n",
       "      <td>Z</td>\n",
       "      <td>10.7</td>\n",
       "      <td>7.7</td>\n",
       "      <td>9.4</td>\n",
       "      <td>30</td>\n",
       "      <td>219</td>\n",
       "    </tr>\n",
       "    <tr>\n",
       "      <th>7381</th>\n",
       "      <td>VOLVO</td>\n",
       "      <td>XC60 T5 AWD</td>\n",
       "      <td>SUV - SMALL</td>\n",
       "      <td>2.0</td>\n",
       "      <td>4</td>\n",
       "      <td>AS8</td>\n",
       "      <td>Z</td>\n",
       "      <td>11.2</td>\n",
       "      <td>8.3</td>\n",
       "      <td>9.9</td>\n",
       "      <td>29</td>\n",
       "      <td>232</td>\n",
       "    </tr>\n",
       "    <tr>\n",
       "      <th>7382</th>\n",
       "      <td>VOLVO</td>\n",
       "      <td>XC60 T6 AWD</td>\n",
       "      <td>SUV - SMALL</td>\n",
       "      <td>2.0</td>\n",
       "      <td>4</td>\n",
       "      <td>AS8</td>\n",
       "      <td>Z</td>\n",
       "      <td>11.7</td>\n",
       "      <td>8.6</td>\n",
       "      <td>10.3</td>\n",
       "      <td>27</td>\n",
       "      <td>240</td>\n",
       "    </tr>\n",
       "    <tr>\n",
       "      <th>7383</th>\n",
       "      <td>VOLVO</td>\n",
       "      <td>XC90 T5 AWD</td>\n",
       "      <td>SUV - STANDARD</td>\n",
       "      <td>2.0</td>\n",
       "      <td>4</td>\n",
       "      <td>AS8</td>\n",
       "      <td>Z</td>\n",
       "      <td>11.2</td>\n",
       "      <td>8.3</td>\n",
       "      <td>9.9</td>\n",
       "      <td>29</td>\n",
       "      <td>232</td>\n",
       "    </tr>\n",
       "    <tr>\n",
       "      <th>7384</th>\n",
       "      <td>VOLVO</td>\n",
       "      <td>XC90 T6 AWD</td>\n",
       "      <td>SUV - STANDARD</td>\n",
       "      <td>2.0</td>\n",
       "      <td>4</td>\n",
       "      <td>AS8</td>\n",
       "      <td>Z</td>\n",
       "      <td>12.2</td>\n",
       "      <td>8.7</td>\n",
       "      <td>10.7</td>\n",
       "      <td>26</td>\n",
       "      <td>248</td>\n",
       "    </tr>\n",
       "  </tbody>\n",
       "</table>\n",
       "<p>7385 rows × 12 columns</p>\n",
       "</div>"
      ],
      "text/plain": [
       "       Make        Model    VehicleClass  EngineSize  Cylinders Transmission  \\\n",
       "0     ACURA          ILX         COMPACT         2.0          4          AS5   \n",
       "1     ACURA          ILX         COMPACT         2.4          4           M6   \n",
       "2     ACURA   ILX HYBRID         COMPACT         1.5          4          AV7   \n",
       "3     ACURA      MDX 4WD     SUV - SMALL         3.5          6          AS6   \n",
       "4     ACURA      RDX AWD     SUV - SMALL         3.5          6          AS6   \n",
       "...     ...          ...             ...         ...        ...          ...   \n",
       "7380  VOLVO  XC40 T5 AWD     SUV - SMALL         2.0          4          AS8   \n",
       "7381  VOLVO  XC60 T5 AWD     SUV - SMALL         2.0          4          AS8   \n",
       "7382  VOLVO  XC60 T6 AWD     SUV - SMALL         2.0          4          AS8   \n",
       "7383  VOLVO  XC90 T5 AWD  SUV - STANDARD         2.0          4          AS8   \n",
       "7384  VOLVO  XC90 T6 AWD  SUV - STANDARD         2.0          4          AS8   \n",
       "\n",
       "     FuelType  FuelConsumptionCity (L/100 km)  FuelConsumptionHwy (L/100 km)  \\\n",
       "0           Z                             9.9                            6.7   \n",
       "1           Z                            11.2                            7.7   \n",
       "2           Z                             6.0                            5.8   \n",
       "3           Z                            12.7                            9.1   \n",
       "4           Z                            12.1                            8.7   \n",
       "...       ...                             ...                            ...   \n",
       "7380        Z                            10.7                            7.7   \n",
       "7381        Z                            11.2                            8.3   \n",
       "7382        Z                            11.7                            8.6   \n",
       "7383        Z                            11.2                            8.3   \n",
       "7384        Z                            12.2                            8.7   \n",
       "\n",
       "      FuelConsumptionComb (L/100 km)  FuelConsumptionComb  CO2Emissions  \n",
       "0                                8.5                   33           196  \n",
       "1                                9.6                   29           221  \n",
       "2                                5.9                   48           136  \n",
       "3                               11.1                   25           255  \n",
       "4                               10.6                   27           244  \n",
       "...                              ...                  ...           ...  \n",
       "7380                             9.4                   30           219  \n",
       "7381                             9.9                   29           232  \n",
       "7382                            10.3                   27           240  \n",
       "7383                             9.9                   29           232  \n",
       "7384                            10.7                   26           248  \n",
       "\n",
       "[7385 rows x 12 columns]"
      ]
     },
     "execution_count": 2,
     "metadata": {},
     "output_type": "execute_result"
    }
   ],
   "source": [
    "# read the csv data file\n",
    "df = pd.read_csv(\"C:\\\\Users\\\\faiza\\\\OneDrive\\\\Desktop\\\\CO2 Emissions_Canada.csv\",encoding=\"ISO-8859-1\")\n",
    "df"
   ]
  },
  {
   "cell_type": "code",
   "execution_count": 3,
   "id": "311aeba4",
   "metadata": {},
   "outputs": [
    {
     "data": {
      "text/html": [
       "<div>\n",
       "<style scoped>\n",
       "    .dataframe tbody tr th:only-of-type {\n",
       "        vertical-align: middle;\n",
       "    }\n",
       "\n",
       "    .dataframe tbody tr th {\n",
       "        vertical-align: top;\n",
       "    }\n",
       "\n",
       "    .dataframe thead th {\n",
       "        text-align: right;\n",
       "    }\n",
       "</style>\n",
       "<table border=\"1\" class=\"dataframe\">\n",
       "  <thead>\n",
       "    <tr style=\"text-align: right;\">\n",
       "      <th></th>\n",
       "      <th>EngineSize</th>\n",
       "      <th>Cylinders</th>\n",
       "      <th>FuelConsumptionCity (L/100 km)</th>\n",
       "      <th>FuelConsumptionHwy (L/100 km)</th>\n",
       "      <th>FuelConsumptionComb (L/100 km)</th>\n",
       "      <th>FuelConsumptionComb</th>\n",
       "      <th>CO2Emissions</th>\n",
       "    </tr>\n",
       "  </thead>\n",
       "  <tbody>\n",
       "    <tr>\n",
       "      <th>count</th>\n",
       "      <td>7385.000000</td>\n",
       "      <td>7385.000000</td>\n",
       "      <td>7385.000000</td>\n",
       "      <td>7385.000000</td>\n",
       "      <td>7385.000000</td>\n",
       "      <td>7385.000000</td>\n",
       "      <td>7385.000000</td>\n",
       "    </tr>\n",
       "    <tr>\n",
       "      <th>mean</th>\n",
       "      <td>3.160068</td>\n",
       "      <td>5.615030</td>\n",
       "      <td>12.556534</td>\n",
       "      <td>9.041706</td>\n",
       "      <td>10.975071</td>\n",
       "      <td>27.481652</td>\n",
       "      <td>250.584699</td>\n",
       "    </tr>\n",
       "    <tr>\n",
       "      <th>std</th>\n",
       "      <td>1.354170</td>\n",
       "      <td>1.828307</td>\n",
       "      <td>3.500274</td>\n",
       "      <td>2.224456</td>\n",
       "      <td>2.892506</td>\n",
       "      <td>7.231879</td>\n",
       "      <td>58.512679</td>\n",
       "    </tr>\n",
       "    <tr>\n",
       "      <th>min</th>\n",
       "      <td>0.900000</td>\n",
       "      <td>3.000000</td>\n",
       "      <td>4.200000</td>\n",
       "      <td>4.000000</td>\n",
       "      <td>4.100000</td>\n",
       "      <td>11.000000</td>\n",
       "      <td>96.000000</td>\n",
       "    </tr>\n",
       "    <tr>\n",
       "      <th>25%</th>\n",
       "      <td>2.000000</td>\n",
       "      <td>4.000000</td>\n",
       "      <td>10.100000</td>\n",
       "      <td>7.500000</td>\n",
       "      <td>8.900000</td>\n",
       "      <td>22.000000</td>\n",
       "      <td>208.000000</td>\n",
       "    </tr>\n",
       "    <tr>\n",
       "      <th>50%</th>\n",
       "      <td>3.000000</td>\n",
       "      <td>6.000000</td>\n",
       "      <td>12.100000</td>\n",
       "      <td>8.700000</td>\n",
       "      <td>10.600000</td>\n",
       "      <td>27.000000</td>\n",
       "      <td>246.000000</td>\n",
       "    </tr>\n",
       "    <tr>\n",
       "      <th>75%</th>\n",
       "      <td>3.700000</td>\n",
       "      <td>6.000000</td>\n",
       "      <td>14.600000</td>\n",
       "      <td>10.200000</td>\n",
       "      <td>12.600000</td>\n",
       "      <td>32.000000</td>\n",
       "      <td>288.000000</td>\n",
       "    </tr>\n",
       "    <tr>\n",
       "      <th>max</th>\n",
       "      <td>8.400000</td>\n",
       "      <td>16.000000</td>\n",
       "      <td>30.600000</td>\n",
       "      <td>20.600000</td>\n",
       "      <td>26.100000</td>\n",
       "      <td>69.000000</td>\n",
       "      <td>522.000000</td>\n",
       "    </tr>\n",
       "  </tbody>\n",
       "</table>\n",
       "</div>"
      ],
      "text/plain": [
       "        EngineSize    Cylinders  FuelConsumptionCity (L/100 km)  \\\n",
       "count  7385.000000  7385.000000                     7385.000000   \n",
       "mean      3.160068     5.615030                       12.556534   \n",
       "std       1.354170     1.828307                        3.500274   \n",
       "min       0.900000     3.000000                        4.200000   \n",
       "25%       2.000000     4.000000                       10.100000   \n",
       "50%       3.000000     6.000000                       12.100000   \n",
       "75%       3.700000     6.000000                       14.600000   \n",
       "max       8.400000    16.000000                       30.600000   \n",
       "\n",
       "       FuelConsumptionHwy (L/100 km)  FuelConsumptionComb (L/100 km)  \\\n",
       "count                    7385.000000                     7385.000000   \n",
       "mean                        9.041706                       10.975071   \n",
       "std                         2.224456                        2.892506   \n",
       "min                         4.000000                        4.100000   \n",
       "25%                         7.500000                        8.900000   \n",
       "50%                         8.700000                       10.600000   \n",
       "75%                        10.200000                       12.600000   \n",
       "max                        20.600000                       26.100000   \n",
       "\n",
       "       FuelConsumptionComb  CO2Emissions  \n",
       "count          7385.000000   7385.000000  \n",
       "mean             27.481652    250.584699  \n",
       "std               7.231879     58.512679  \n",
       "min              11.000000     96.000000  \n",
       "25%              22.000000    208.000000  \n",
       "50%              27.000000    246.000000  \n",
       "75%              32.000000    288.000000  \n",
       "max              69.000000    522.000000  "
      ]
     },
     "execution_count": 3,
     "metadata": {},
     "output_type": "execute_result"
    }
   ],
   "source": [
    "# summarize the data\n",
    "df.describe()"
   ]
  },
  {
   "cell_type": "code",
   "execution_count": 4,
   "id": "c0ed36f2",
   "metadata": {},
   "outputs": [
    {
     "data": {
      "text/html": [
       "<div>\n",
       "<style scoped>\n",
       "    .dataframe tbody tr th:only-of-type {\n",
       "        vertical-align: middle;\n",
       "    }\n",
       "\n",
       "    .dataframe tbody tr th {\n",
       "        vertical-align: top;\n",
       "    }\n",
       "\n",
       "    .dataframe thead th {\n",
       "        text-align: right;\n",
       "    }\n",
       "</style>\n",
       "<table border=\"1\" class=\"dataframe\">\n",
       "  <thead>\n",
       "    <tr style=\"text-align: right;\">\n",
       "      <th></th>\n",
       "      <th>EngineSize</th>\n",
       "      <th>Cylinders</th>\n",
       "      <th>FuelConsumptionComb</th>\n",
       "      <th>CO2Emissions</th>\n",
       "    </tr>\n",
       "  </thead>\n",
       "  <tbody>\n",
       "    <tr>\n",
       "      <th>0</th>\n",
       "      <td>2.0</td>\n",
       "      <td>4</td>\n",
       "      <td>33</td>\n",
       "      <td>196</td>\n",
       "    </tr>\n",
       "    <tr>\n",
       "      <th>1</th>\n",
       "      <td>2.4</td>\n",
       "      <td>4</td>\n",
       "      <td>29</td>\n",
       "      <td>221</td>\n",
       "    </tr>\n",
       "    <tr>\n",
       "      <th>2</th>\n",
       "      <td>1.5</td>\n",
       "      <td>4</td>\n",
       "      <td>48</td>\n",
       "      <td>136</td>\n",
       "    </tr>\n",
       "    <tr>\n",
       "      <th>3</th>\n",
       "      <td>3.5</td>\n",
       "      <td>6</td>\n",
       "      <td>25</td>\n",
       "      <td>255</td>\n",
       "    </tr>\n",
       "    <tr>\n",
       "      <th>4</th>\n",
       "      <td>3.5</td>\n",
       "      <td>6</td>\n",
       "      <td>27</td>\n",
       "      <td>244</td>\n",
       "    </tr>\n",
       "    <tr>\n",
       "      <th>5</th>\n",
       "      <td>3.5</td>\n",
       "      <td>6</td>\n",
       "      <td>28</td>\n",
       "      <td>230</td>\n",
       "    </tr>\n",
       "    <tr>\n",
       "      <th>6</th>\n",
       "      <td>3.5</td>\n",
       "      <td>6</td>\n",
       "      <td>28</td>\n",
       "      <td>232</td>\n",
       "    </tr>\n",
       "    <tr>\n",
       "      <th>7</th>\n",
       "      <td>3.7</td>\n",
       "      <td>6</td>\n",
       "      <td>25</td>\n",
       "      <td>255</td>\n",
       "    </tr>\n",
       "    <tr>\n",
       "      <th>8</th>\n",
       "      <td>3.7</td>\n",
       "      <td>6</td>\n",
       "      <td>24</td>\n",
       "      <td>267</td>\n",
       "    </tr>\n",
       "    <tr>\n",
       "      <th>9</th>\n",
       "      <td>2.4</td>\n",
       "      <td>4</td>\n",
       "      <td>31</td>\n",
       "      <td>212</td>\n",
       "    </tr>\n",
       "  </tbody>\n",
       "</table>\n",
       "</div>"
      ],
      "text/plain": [
       "   EngineSize  Cylinders  FuelConsumptionComb  CO2Emissions\n",
       "0         2.0          4                   33           196\n",
       "1         2.4          4                   29           221\n",
       "2         1.5          4                   48           136\n",
       "3         3.5          6                   25           255\n",
       "4         3.5          6                   27           244\n",
       "5         3.5          6                   28           230\n",
       "6         3.5          6                   28           232\n",
       "7         3.7          6                   25           255\n",
       "8         3.7          6                   24           267\n",
       "9         2.4          4                   31           212"
      ]
     },
     "execution_count": 4,
     "metadata": {},
     "output_type": "execute_result"
    }
   ],
   "source": [
    "#columns to work with selected data fields\n",
    "cdf = df[['EngineSize','Cylinders','FuelConsumptionComb','CO2Emissions']]\n",
    "cdf.head(10)"
   ]
  },
  {
   "cell_type": "code",
   "execution_count": 5,
   "id": "bfb339ab",
   "metadata": {},
   "outputs": [
    {
     "data": {
      "image/png": "[encoded data removed]",
      "text/plain": [
       "<Figure size 432x288 with 1 Axes>"
      ]
     },
     "metadata": {
      "needs_background": "light"
     },
     "output_type": "display_data"
    }
   ],
   "source": [
    "#plot engine size vs the emission, to see how linear is their relation:\n",
    "plt.scatter(cdf.EngineSize, cdf.CO2Emissions,  color='blue')\n",
    "plt.xlabel(\"Engine size\")\n",
    "plt.ylabel(\"Emission\")\n",
    "plt.show()"
   ]
  },
  {
   "cell_type": "code",
   "execution_count": 6,
   "id": "fd0a95fe",
   "metadata": {},
   "outputs": [],
   "source": [
    "#train_test_split 80% train data , 20% split data\n",
    "msk = np.random.rand(len(df)) < 0.8 #np.random.rand() returns value from 0 - 1 eg:0.3434,0.89655,0.53546\n",
    "train = cdf[msk]                    #msk returns true value ie] < 0.8\n",
    "test = cdf[~msk]                    #~msk returns false value ie] > 0.8"
   ]
  },
  {
   "cell_type": "code",
   "execution_count": 7,
   "id": "92f1ef46",
   "metadata": {},
   "outputs": [
    {
     "data": {
      "text/plain": [
       "array([ True,  True,  True, ...,  True,  True,  True])"
      ]
     },
     "execution_count": 7,
     "metadata": {},
     "output_type": "execute_result"
    }
   ],
   "source": [
    "msk"
   ]
  },
  {
   "cell_type": "code",
   "execution_count": 8,
   "id": "f822ee6b",
   "metadata": {},
   "outputs": [
    {
     "data": {
      "image/png": "[encoded data removed]",
      "text/plain": [
       "<Figure size 432x288 with 1 Axes>"
      ]
     },
     "metadata": {
      "needs_background": "light"
     },
     "output_type": "display_data"
    }
   ],
   "source": [
    "#train data distrubtion\n",
    "plt.scatter(train.EngineSize, train.CO2Emissions,  color='blue')\n",
    "plt.xlabel(\"EngineSize\")\n",
    "plt.ylabel(\"Emission\")\n",
    "plt.show()                # lower graph: approx value  upper graph: is actual value"
   ]
  },
  {
   "cell_type": "code",
   "execution_count": 9,
   "id": "75e868b0",
   "metadata": {},
   "outputs": [
    {
     "data": {
      "image/png": "[encoded data removed]",
      "text/plain": [
       "<Figure size 432x288 with 1 Axes>"
      ]
     },
     "metadata": {
      "needs_background": "light"
     },
     "output_type": "display_data"
    }
   ],
   "source": [
    "#train data distrubtion\n",
    "plt.scatter(train.Cylinders, train.CO2Emissions,  color='red')\n",
    "plt.xlabel(\"Cyinder\")\n",
    "plt.ylabel(\"Emission\")\n",
    "plt.show()                "
   ]
  },
  {
   "cell_type": "code",
   "execution_count": 10,
   "id": "cc4cdedf",
   "metadata": {},
   "outputs": [
    {
     "data": {
      "image/png": "[encoded data removed]",
      "text/plain": [
       "<Figure size 432x288 with 1 Axes>"
      ]
     },
     "metadata": {
      "needs_background": "light"
     },
     "output_type": "display_data"
    }
   ],
   "source": [
    "#train data distrubtion\n",
    "plt.scatter(train.FuelConsumptionComb, train.CO2Emissions,  color='green')\n",
    "plt.xlabel(\"Cyinder\")\n",
    "plt.ylabel(\"Emission\")\n",
    "plt.show()         "
   ]
  },
  {
   "cell_type": "markdown",
   "id": "1808d68f",
   "metadata": {},
   "source": [
    "# MODEL FOR ENGINESIZE VS CO2 EMISSIONS"
   ]
  },
  {
   "cell_type": "code",
   "execution_count": 11,
   "id": "24a3994b",
   "metadata": {},
   "outputs": [
    {
     "name": "stdout",
     "output_type": "stream",
     "text": [
      "Coefficients:  [[36.76973309]]\n",
      "Intercept:  [134.39577881]\n"
     ]
    }
   ],
   "source": [
    "# creating a model \n",
    "regr = linear_model.LinearRegression()\n",
    "train_x = np.asanyarray(train[['EngineSize']]) #asanyarray gives ouput in terms of arry\n",
    "train_y = np.asanyarray(train[['CO2Emissions']]) \n",
    "regr.fit(train_x, train_y)    #trains the module base on previous data\n",
    "# The coefficients\n",
    "print ('Coefficients: ',regr.coef_)\n",
    "print ('Intercept: ',regr.intercept_)"
   ]
  },
  {
   "cell_type": "code",
   "execution_count": 12,
   "id": "035bd4a0",
   "metadata": {},
   "outputs": [
    {
     "data": {
      "image/png": "[encoded data removed]",
      "text/plain": [
       "<Figure size 432x288 with 1 Axes>"
      ]
     },
     "metadata": {
      "needs_background": "light"
     },
     "output_type": "display_data"
    }
   ],
   "source": [
    "#plotting the fit line\n",
    "plt.scatter(train.EngineSize, train.CO2Emissions,  color='blue')\n",
    "plt.plot(train_x , regr.coef_[0][0]*train_x + regr.intercept_[0], '-r') #regr.coef_[0][0] choses the first value of coef\n",
    "plt.xlabel(\"Engine size\")\n",
    "plt.ylabel(\"Emission\")\n",
    "plt.show()\n"
   ]
  },
  {
   "cell_type": "code",
   "execution_count": 13,
   "id": "f53a8ab9",
   "metadata": {},
   "outputs": [
    {
     "name": "stdout",
     "output_type": "stream",
     "text": [
      "Mean absolute error: 22.90\n",
      "Residual sum of squares (MSE): 905.92\n",
      "R2-score: 0.73\n"
     ]
    }
   ],
   "source": [
    "from sklearn.metrics import r2_score\n",
    "\n",
    "test_x = np.asanyarray(test[['EngineSize']])\n",
    "test_y = np.asanyarray(test[['CO2Emissions']])\n",
    "test_z_ = regr.predict(test_x)\n",
    "\n",
    "print(\"Mean absolute error: %.2f\" % np.mean(np.absolute(test_z_ - test_y)))\n",
    "print(\"Residual sum of squares (MSE): %.2f\" % np.mean((test_z_ - test_y) ** 2))\n",
    "print(\"R2-score: %.2f\" % r2_score(test_y , test_z_) )"
   ]
  },
  {
   "cell_type": "code",
   "execution_count": 14,
   "id": "79cc5f2e",
   "metadata": {},
   "outputs": [
    {
     "data": {
      "text/plain": [
       "array([[222.64313822],\n",
       "       [200.58129837],\n",
       "       [351.33720404],\n",
       "       ...,\n",
       "       [207.93524499],\n",
       "       [207.93524499],\n",
       "       [207.93524499]])"
      ]
     },
     "execution_count": 14,
     "metadata": {},
     "output_type": "execute_result"
    }
   ],
   "source": [
    "test_z_"
   ]
  },
  {
   "cell_type": "markdown",
   "id": "3d33a9f3",
   "metadata": {},
   "source": [
    "# MODEL FOR CYLINDRS VS CO2EMISSIONS"
   ]
  },
  {
   "cell_type": "code",
   "execution_count": 15,
   "id": "f5aaf57c",
   "metadata": {},
   "outputs": [
    {
     "name": "stdout",
     "output_type": "stream",
     "text": [
      "Coefficients:  [[26.49038174]]\n",
      "Intercept:  [102.01324572]\n"
     ]
    }
   ],
   "source": [
    "# creating a model \n",
    "regr = linear_model.LinearRegression()\n",
    "train_x = np.asanyarray(train[['Cylinders']]) #asanyarray gives ouput in terms of arry\n",
    "train_y = np.asanyarray(train[['CO2Emissions']]) \n",
    "regr.fit(train_x, train_y)    #trains the module base on previous data\n",
    "# The coefficients\n",
    "print ('Coefficients: ',regr.coef_)\n",
    "print ('Intercept: ',regr.intercept_)"
   ]
  },
  {
   "cell_type": "code",
   "execution_count": 16,
   "id": "b76f9213",
   "metadata": {},
   "outputs": [
    {
     "data": {
      "image/png": "[encoded data removed]",
      "text/plain": [
       "<Figure size 432x288 with 1 Axes>"
      ]
     },
     "metadata": {
      "needs_background": "light"
     },
     "output_type": "display_data"
    }
   ],
   "source": [
    "#plotting the fit line\n",
    "plt.scatter(train.Cylinders, train.CO2Emissions,  color='green')\n",
    "plt.plot(train_x , regr.coef_[0][0]*train_x + regr.intercept_[0], '-r') #regr.coef_[0][0] choses the first value of coef\n",
    "plt.xlabel(\"Cylinders\")\n",
    "plt.ylabel(\"Emission\")\n",
    "plt.show()"
   ]
  },
  {
   "cell_type": "code",
   "execution_count": 17,
   "id": "bb37875f",
   "metadata": {},
   "outputs": [
    {
     "name": "stdout",
     "output_type": "stream",
     "text": [
      "Mean absolute error: 23.66\n",
      "Residual sum of squares (MSE): 973.09\n",
      "R2-score: 0.71\n"
     ]
    }
   ],
   "source": [
    "from sklearn.metrics import r2_score\n",
    "\n",
    "test_x = np.asanyarray(test[['Cylinders']])\n",
    "test_y = np.asanyarray(test[['CO2Emissions']])\n",
    "test_Y_ = regr.predict(test_x)\n",
    "\n",
    "print(\"Mean absolute error: %.2f\" % np.mean(np.absolute(test_Y_ - test_y)))\n",
    "print(\"Residual sum of squares (MSE): %.2f\" % np.mean((test_Y_ - test_y) ** 2))\n",
    "print(\"R2-score: %.2f\" % r2_score(test_y , test_Y_) )"
   ]
  },
  {
   "cell_type": "code",
   "execution_count": 18,
   "id": "ac5bec4f",
   "metadata": {},
   "outputs": [
    {
     "data": {
      "text/plain": [
       "array([[207.97477267],\n",
       "       [207.97477267],\n",
       "       [419.89782655],\n",
       "       ...,\n",
       "       [207.97477267],\n",
       "       [207.97477267],\n",
       "       [207.97477267]])"
      ]
     },
     "execution_count": 18,
     "metadata": {},
     "output_type": "execute_result"
    }
   ],
   "source": [
    "test_Y_"
   ]
  },
  {
   "cell_type": "markdown",
   "id": "e07fbd7f",
   "metadata": {},
   "source": [
    "# MODEL FOR FUEL VS CO2EMISSION"
   ]
  },
  {
   "cell_type": "code",
   "execution_count": 19,
   "id": "5aefac01",
   "metadata": {},
   "outputs": [
    {
     "name": "stdout",
     "output_type": "stream",
     "text": [
      "Coefficients:  [[-7.33890991]]\n",
      "Intercept:  [452.41589572]\n"
     ]
    }
   ],
   "source": [
    "# creating a model \n",
    "regr = linear_model.LinearRegression()\n",
    "train_x = np.asanyarray(train[['FuelConsumptionComb']]) #asanyarray gives ouput in terms of arry\n",
    "train_y = np.asanyarray(train[['CO2Emissions']]) \n",
    "regr.fit(train_x, train_y)    #trains the module base on previous data\n",
    "# The coefficients\n",
    "print ('Coefficients: ',regr.coef_)\n",
    "print ('Intercept: ',regr.intercept_)"
   ]
  },
  {
   "cell_type": "code",
   "execution_count": 20,
   "id": "4daa4e20",
   "metadata": {},
   "outputs": [
    {
     "data": {
      "image/png": "[encoded data removed]",
      "text/plain": [
       "<Figure size 432x288 with 1 Axes>"
      ]
     },
     "metadata": {
      "needs_background": "light"
     },
     "output_type": "display_data"
    }
   ],
   "source": [
    "#plotting the fit line\n",
    "plt.scatter(train.FuelConsumptionComb, train.CO2Emissions,  color='aqua')\n",
    "plt.plot(train_x , regr.coef_[0][0]*train_x + regr.intercept_[0], '-r') #regr.coef_[0][0] choses the first value of coef\n",
    "plt.xlabel(\"FuelConsumptionComb\")\n",
    "plt.ylabel(\"Emission\")\n",
    "plt.show()"
   ]
  },
  {
   "cell_type": "code",
   "execution_count": 21,
   "id": "0cb5396c",
   "metadata": {},
   "outputs": [
    {
     "name": "stdout",
     "output_type": "stream",
     "text": [
      "Mean absolute error: 15.44\n",
      "Residual sum of squares (MSE): 533.76\n",
      "R2-score: 0.84\n"
     ]
    }
   ],
   "source": [
    "from sklearn.metrics import r2_score\n",
    "\n",
    "test_x = np.asanyarray(test[['FuelConsumptionComb']])\n",
    "test_y = np.asanyarray(test[['CO2Emissions']])\n",
    "test_y_ = regr.predict(test_x)\n",
    "\n",
    "print(\"Mean absolute error: %.2f\" % np.mean(np.absolute(test_y_ - test_y)))\n",
    "print(\"Residual sum of squares (MSE): %.2f\" % np.mean((test_y_ - test_y) ** 2))\n",
    "print(\"R2-score: %.2f\" % r2_score(test_y , test_y_) )\n"
   ]
  },
  {
   "cell_type": "code",
   "execution_count": 22,
   "id": "782a6e79",
   "metadata": {},
   "outputs": [
    {
     "data": {
      "text/plain": [
       "array([[239.58750837],\n",
       "       [202.89295883],\n",
       "       [320.31551737],\n",
       "       ...,\n",
       "       [239.58750837],\n",
       "       [224.90968856],\n",
       "       [239.58750837]])"
      ]
     },
     "execution_count": 22,
     "metadata": {},
     "output_type": "execute_result"
    }
   ],
   "source": [
    "test_y_"
   ]
  },
  {
   "cell_type": "code",
   "execution_count": 23,
   "id": "70a1af2c",
   "metadata": {},
   "outputs": [
    {
     "data": {
      "text/plain": [
       "array([[225],\n",
       "       [193],\n",
       "       [359],\n",
       "       ...,\n",
       "       [223],\n",
       "       [210],\n",
       "       [232]], dtype=int64)"
      ]
     },
     "execution_count": 23,
     "metadata": {},
     "output_type": "execute_result"
    }
   ],
   "source": [
    "test_y"
   ]
  },
  {
   "cell_type": "code",
   "execution_count": 24,
   "id": "362d027e",
   "metadata": {},
   "outputs": [
    {
     "data": {
      "text/plain": [
       "0.8391774488737466"
      ]
     },
     "execution_count": 24,
     "metadata": {},
     "output_type": "execute_result"
    }
   ],
   "source": [
    "regr.score(test_x,test_y)"
   ]
  },
  {
   "cell_type": "code",
   "execution_count": null,
   "id": "1876ac33",
   "metadata": {},
   "outputs": [],
   "source": []
  }
 ],
 "metadata": {
  "kernelspec": {
   "display_name": "Python 3 (ipykernel)",
   "language": "python",
   "name": "python3"
  },
  "language_info": {
   "codemirror_mode": {
    "name": "ipython",
    "version": 3
   },
   "file_extension": ".py",
   "mimetype": "text/x-python",
   "name": "python",
   "nbconvert_exporter": "python",
   "pygments_lexer": "ipython3",
   "version": "3.9.13"
  }
 },
 "nbformat": 4,
 "nbformat_minor": 5
}
